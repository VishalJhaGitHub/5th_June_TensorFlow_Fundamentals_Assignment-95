{
 "cells": [
  {
   "cell_type": "code",
   "execution_count": 1,
   "id": "8ce7569a-6a72-4cea-94fd-fb4e74a53852",
   "metadata": {},
   "outputs": [],
   "source": [
    "#Objective: The objective of this assignment is to gain practical experience with fundamental operations in TensorFlow, including creating and manipulating matrices, performing arithmetic operations on tensors, and understanding the difference between TensorFlow constants and variables."
   ]
  },
  {
   "cell_type": "code",
   "execution_count": 2,
   "id": "494d7658-16e5-4fe7-80a6-3db11d3dfead",
   "metadata": {},
   "outputs": [],
   "source": [
    "#Part I: Theoretical Questions\n",
    "\n",
    "#1. What are the different data structures used in Tensorflow?. Give some examples.\n",
    "\n",
    "#Ans\n",
    "\n",
    "#TensorFlow primarily uses two fundamental data structures for representing data: tensors and graphs.\n",
    "\n",
    "#1 - Tensors:\n",
    "\n",
    "#Tensor: A tensor is a multi-dimensional array that can hold data of various types (e.g., float32, int64). Tensors are the basic building blocks in TensorFlow and can have different ranks (0D scalar, 1D vector, 2D matrix, etc.).\n",
    "\n",
    "#tensor = tf.constant([1, 2, 3])  # Example of a 1D tensor\n",
    "\n",
    "#2 - Graphs:\n",
    "\n",
    "#Computational Graph: TensorFlow uses a computational graph to represent a sequence of operations as a directed graph. In this graph, nodes represent operations, and edges represent data (tensors) flowing between these operations.\n",
    "#Example: When you define a series of operations using TensorFlow, it creates a graph to represent these operations. For instance:\n",
    "\n",
    "#a = tf.constant(2)\n",
    "#b = tf.constant(3)\n",
    "#c = tf.add(a, b)\n",
    "\n",
    "#In this example, a computational graph is created with nodes representing constants and the addition operation.\n",
    "#In addition to these fundamental structures, TensorFlow provides other data structures and abstractions for specific use cases, such as:\n",
    "\n",
    "\n",
    "#1 - Variables:\n",
    "\n",
    "#tf.Variable: TensorFlow provides a special type of tensor called a variable, which is used to represent trainable parameters in machine learning models. Variables can be updated during training.\n",
    "\n",
    "#dataset = tf.data.Dataset.from_tensor_slices((features, labels))\n",
    "\n",
    "#2 - Datasets:\n",
    "\n",
    "#tf.data.Dataset: TensorFlow provides the tf.data.Dataset API for efficiently managing and processing large datasets. It allows you to create data pipelines for input data into machine learning models.\n",
    "\n",
    "#dataset = tf.data.Dataset.from_tensor_slices((features, labels))\n",
    "\n",
    "#3 - Sparse Tensors:\n",
    "\n",
    "#tf.sparse.SparseTensor: Sparse tensors are used when dealing with sparse data, where most of the elements are zero. They are represented more efficiently than dense tensors.\n",
    "\n",
    "#indices = tf.constant([[0, 0], [1, 2]])\n",
    "#values = tf.constant([1.0, 2.0])\n",
    "#sparse_tensor = tf.sparse.SparseTensor(indices, values, dense_shape=[3, 4])\n",
    "\n",
    "#4 -  Ragged Tensors:\n",
    "\n",
    "#tf.RaggedTensor: Ragged tensors are used to represent sequences of tensors with varying lengths, which can be common in natural language processing tasks.\n",
    "\n",
    "#ragged_tensor = tf.ragged.constant([[1, 2, 3], [4, 5], [6, 7, 8, 9]])\n",
    "\n",
    "#5 - String Tensors:\n",
    "\n",
    "#tf.string: TensorFlow provides data structures for handling string data, as text data is prevalent in many machine learning applications.\n",
    "\n",
    "#text_tensor = tf.constant(\"Hello, TensorFlow!\")"
   ]
  },
  {
   "cell_type": "code",
   "execution_count": 3,
   "id": "987635b0-a33e-487b-97ea-93b54624ca6b",
   "metadata": {},
   "outputs": [],
   "source": [
    "#2. How does the TensorFlow constant differ from a TensorFlow variable? Explain with an example.\n",
    "\n",
    "#Ans\n",
    "\n",
    "#The main difference between TensorFlow constants and TensorFlow variables is that constants hold fixed values that do not change during computation, while variables can hold values that can be updated during training.\n",
    "\n",
    "#TensorFlow Constant:\n",
    "\n",
    "#Holds a fixed value throughout the computation.\n",
    "\n",
    "#Example:\n",
    "\n",
    "#constant_tensor = tf.constant([1, 2, 3])\n",
    "\n",
    "#TensorFlow Variable:\n",
    "\n",
    "#Represents trainable parameters in machine learning models.\n",
    "#Values can be updated during training using gradient descent or other optimization algorithms.\n",
    "\n",
    "#Example:\n",
    "\n",
    "#initial_value = tf.constant([4, 5, 6])\n",
    "#variable_tensor = tf.Variable(initial_value)\n",
    "\n",
    "#In the example with the constant, the values [1, 2, 3] remain fixed, whereas in the example with the variable, you can update the values of variable_tensor during training to optimize a machine learning model."
   ]
  },
  {
   "cell_type": "code",
   "execution_count": 4,
   "id": "fdd1309c-e87f-47ee-be83-e5c3e7586a47",
   "metadata": {},
   "outputs": [],
   "source": [
    "#3. Describe the process of matrix addition, multiplication, and element-wise operations in TensorFlow.\n",
    "\n",
    "#Ans\n",
    "\n",
    "#Matrix Addition in TensorFlow:\n",
    "\n",
    "#Matrix addition is performed using the + operator or the tf.add() function.\n",
    "\n",
    "#Example:\n",
    "\n",
    "#matrix1 = tf.constant([[1, 2], [3, 4]])\n",
    "#matrix2 = tf.constant([[5, 6], [7, 8]])\n",
    "#result_matrix_add = matrix1 + matrix2  # or tf.add(matrix1, matrix2)\n",
    "\n",
    "#Matrix Multiplication in TensorFlow:\n",
    "\n",
    "#Matrix multiplication is performed using the tf.matmul() function or the @ operator in Python 3.5+.\n",
    "\n",
    "#Example:\n",
    "\n",
    "#matrix1 = tf.constant([[1, 2], [3, 4]])\n",
    "#matrix2 = tf.constant([[5, 6], [7, 8]])\n",
    "#result_matrix_mul = tf.matmul(matrix1, matrix2)  # or matrix1 @ matrix2\n",
    "\n",
    "#Element-Wise Operations in TensorFlow:\n",
    "\n",
    "#Element-wise operations are applied to corresponding elements of two tensors of the same shape.\n",
    "\n",
    "#Examples:\n",
    "\n",
    "#Element-wise addition:\n",
    "\n",
    "#tensor1 = tf.constant([1, 2, 3])\n",
    "#tensor2 = tf.constant([4, 5, 6])\n",
    "#result_add = tensor1 + tensor2  # Element-wise addition\n",
    "\n",
    "#Element-wise multiplication:\n",
    "\n",
    "#tensor1 = tf.constant([1, 2, 3])\n",
    "#tensor2 = tf.constant([4, 5, 6])\n",
    "#result_mul = tf.multiply(tensor1, tensor2)  # Element-wise multiplication\n",
    "\n",
    "#These operations are fundamental for performing mathematical computations with tensors in TensorFlow, and they can be used in various machine learning and deep learning algorithms."
   ]
  },
  {
   "cell_type": "code",
   "execution_count": 5,
   "id": "9e698c7b-43e2-4382-aab4-61829590bf90",
   "metadata": {},
   "outputs": [
    {
     "name": "stdout",
     "output_type": "stream",
     "text": [
      "Matrix A:\n",
      "[[-0.30780762 -0.91032255  2.4189017 ]\n",
      " [-0.16970913  0.89692223  0.8648318 ]\n",
      " [-0.8581853   1.1099262  -0.38195327]]\n"
     ]
    }
   ],
   "source": [
    "#Part 2: Practical Implementation\n",
    "\n",
    "#Task 1: Creating and Manipulating Matrices\n",
    "\n",
    "#1. Create a normal matrix A with dimensions 3x3, using TensorFlow's random _normal function. Display the values of matrix A.\n",
    "\n",
    "import tensorflow as tf\n",
    "\n",
    "# Create a 3x3 matrix with random values sampled from a normal distribution\n",
    "A = tf.random.normal(shape=(3, 3))\n",
    "\n",
    "# Display the values of matrix A\n",
    "print(\"Matrix A:\")\n",
    "print(A.numpy())"
   ]
  },
  {
   "cell_type": "code",
   "execution_count": 6,
   "id": "189f0861-1cd8-4ca5-a7c0-a2083da835d6",
   "metadata": {},
   "outputs": [
    {
     "name": "stdout",
     "output_type": "stream",
     "text": [
      "Matrix B:\n",
      "[[ 1.2633842  -0.63729167 -0.42928985 -1.0818102 ]\n",
      " [ 0.40672553 -0.6456669  -0.3641784   1.1365311 ]\n",
      " [-0.6958293  -0.33149314  0.52005833  1.1426545 ]\n",
      " [-0.33280784 -0.29085645  1.4807286  -0.22685386]]\n"
     ]
    }
   ],
   "source": [
    "#2. Create a Gaussian matrix B with dimensions 4x4, using TensorFlow's truncated _normal function. Display the values of matrix B.\n",
    "\n",
    "#Ans\n",
    "\n",
    "import tensorflow as tf\n",
    "\n",
    "# Create a 4x4 matrix with random values sampled from a truncated normal distribution\n",
    "B = tf.random.truncated_normal(shape=(4, 4))\n",
    "\n",
    "# Display the values of matrix B\n",
    "print(\"Matrix B:\")\n",
    "print(B.numpy())"
   ]
  },
  {
   "cell_type": "code",
   "execution_count": 7,
   "id": "b521b8b3-fb04-48a5-8560-a381d6cec936",
   "metadata": {},
   "outputs": [
    {
     "name": "stdout",
     "output_type": "stream",
     "text": [
      "Matrix C:\n",
      "[[3.0084033 2.3498826]\n",
      " [3.3297052 3.0665457]]\n"
     ]
    }
   ],
   "source": [
    "#3. Create a matrix C with dimensions 2x2, where the values are drawn from a normal distribution with a mean of 3 and a standard deviation of 0.5, using TensorFlow's random.normal function. Display the values of matrix C.\n",
    "\n",
    "#Ans\n",
    "\n",
    "import tensorflow as tf\n",
    "\n",
    "# Specify mean and standard deviation\n",
    "mean = 3.0\n",
    "stddev = 0.5\n",
    "\n",
    "# Create a 2x2 matrix with random values sampled from a normal distribution with the specified mean and standard deviation\n",
    "C = tf.random.normal(shape=(2, 2), mean=mean, stddev=stddev)\n",
    "\n",
    "# Display the values of matrix C\n",
    "print(\"Matrix C:\")\n",
    "print(C.numpy())"
   ]
  },
  {
   "cell_type": "code",
   "execution_count": 8,
   "id": "ccd5196d-658f-476d-8e05-8838126aa02f",
   "metadata": {},
   "outputs": [
    {
     "name": "stdout",
     "output_type": "stream",
     "text": [
      "Matrix D (Result of Addition):\n",
      "[[-0.44306755 -0.39043915 -1.4643936  -1.4058896 ]\n",
      " [ 1.7352654   0.5758469  -0.13015234  0.1113697 ]\n",
      " [ 2.4327598  -0.1781295  -0.13044353  0.8875616 ]\n",
      " [-1.8838873   1.3613546   1.5595969   0.39293748]]\n"
     ]
    }
   ],
   "source": [
    "#4. Perform matrix addition between matrix A and matrix B, and store the result in matrix D.\n",
    "\n",
    "#Ans\n",
    "\n",
    "import tensorflow as tf\n",
    "\n",
    "# Create matrix A (3x3) and matrix B (4x4)\n",
    "A = tf.random.normal(shape=(3, 3))\n",
    "B = tf.random.truncated_normal(shape=(4, 4))\n",
    "\n",
    "# Perform matrix addition\n",
    "# Since the dimensions don't match, you need to make them compatible first.\n",
    "# Let's add zeros to A to make its dimensions match with B, and then perform addition.\n",
    "A_padded = tf.pad(A, paddings=[[0, 1], [0, 1]])  # Pad A with zeros to match dimensions with B\n",
    "D = A_padded + B  # Perform matrix addition\n",
    "\n",
    "# Display matrix D\n",
    "print(\"Matrix D (Result of Addition):\")\n",
    "print(D.numpy())"
   ]
  },
  {
   "cell_type": "code",
   "execution_count": 10,
   "id": "15db9dbb-8fbe-46eb-b660-9f7fb7c86c42",
   "metadata": {},
   "outputs": [
    {
     "name": "stdout",
     "output_type": "stream",
     "text": [
      "Matrix E (Result of Multiplication):\n",
      "[[ 2.7128441   0.179663   -4.637105   -3.903757  ]\n",
      " [ 2.6596546   0.07022759 -5.1978426  -4.426583  ]\n",
      " [ 0.          0.          0.          0.        ]\n",
      " [ 0.          0.          0.          0.        ]]\n"
     ]
    }
   ],
   "source": [
    "#5. Perform matrix multiplication between matrix C and matrix D, and store the result in matrix E.\n",
    "\n",
    "#Ans\n",
    "\n",
    "import tensorflow as tf\n",
    "\n",
    "# Create matrix C (2x2) and matrix D (4x4)\n",
    "C = tf.random.normal(shape=(2, 2), mean=3.0, stddev=0.5)\n",
    "\n",
    "# Assuming we have previously created matrix D as shown in the previous response\n",
    "\n",
    "# Pad matrix C with zeros to match dimensions with D\n",
    "C_padded = tf.pad(C, paddings=[[0, 2], [0, 2]])  # Pad C with zeros to match dimensions with D\n",
    "\n",
    "# Perform matrix multiplication\n",
    "E = tf.matmul(C_padded, D)\n",
    "\n",
    "# Display matrix E\n",
    "print(\"Matrix E (Result of Multiplication):\")\n",
    "print(E.numpy())"
   ]
  },
  {
   "cell_type": "code",
   "execution_count": 11,
   "id": "3cde4c35-7146-40ba-bab1-bfcace8b8724",
   "metadata": {},
   "outputs": [
    {
     "name": "stdout",
     "output_type": "stream",
     "text": [
      "Matrix F:\n",
      "[[0.91451883 0.23277676 0.5265808 ]\n",
      " [0.47189236 0.13738155 0.6517948 ]\n",
      " [0.66515386 0.5137708  0.22573543]]\n"
     ]
    }
   ],
   "source": [
    "#Task 2: Performing Additional Matrix Operations\n",
    "\n",
    "#1. Create a matrix F with dimensions 3x3, initialized with random values using TensorFlow's random _uniform function.\n",
    "\n",
    "#Ans\n",
    "\n",
    "import tensorflow as tf\n",
    "\n",
    "# Create a 3x3 matrix with random values sampled from a uniform distribution\n",
    "F = tf.random.uniform(shape=(3, 3))\n",
    "\n",
    "# Display the values of matrix F\n",
    "print(\"Matrix F:\")\n",
    "print(F.numpy())"
   ]
  },
  {
   "cell_type": "code",
   "execution_count": 12,
   "id": "fe6758b5-a8b9-49c3-85a4-6f0501eb2224",
   "metadata": {},
   "outputs": [
    {
     "name": "stdout",
     "output_type": "stream",
     "text": [
      "Matrix G (Transpose of F):\n",
      "[[0.37257254 0.3387065  0.06123078]\n",
      " [0.21743643 0.9178593  0.04743612]\n",
      " [0.36305487 0.5463023  0.80404055]]\n"
     ]
    }
   ],
   "source": [
    "#2. Calculate the transpose of matrix F and store the result in matrix G.\n",
    "\n",
    "#Ans\n",
    "\n",
    "import tensorflow as tf\n",
    "\n",
    "# Create matrix F (3x3) as shown in the previous response\n",
    "F = tf.random.uniform(shape=(3, 3))\n",
    "\n",
    "# Calculate the transpose of matrix F\n",
    "G = tf.transpose(F)\n",
    "\n",
    "# Display matrix G (transpose of F)\n",
    "print(\"Matrix G (Transpose of F):\")\n",
    "print(G.numpy())"
   ]
  },
  {
   "cell_type": "code",
   "execution_count": 13,
   "id": "6c95f0d5-a39e-4f93-96f6-2565b7e82269",
   "metadata": {},
   "outputs": [
    {
     "name": "stdout",
     "output_type": "stream",
     "text": [
      "Matrix H (Element-wise Exponential of F):\n",
      "[[2.6706696 1.1610814 1.1938536]\n",
      " [1.7516669 1.0206751 2.5792398]\n",
      " [1.301145  1.2565585 1.0002519]]\n"
     ]
    }
   ],
   "source": [
    "#3. Calculate the element-wise exponential of matrix F and store the result in matrix H.\n",
    "\n",
    "#Ans\n",
    "\n",
    "import tensorflow as tf\n",
    "\n",
    "# Create matrix F (3x3) as shown in the previous response\n",
    "F = tf.random.uniform(shape=(3, 3))\n",
    "\n",
    "# Calculate the element-wise exponential of matrix F\n",
    "H = tf.exp(F)\n",
    "\n",
    "# Display matrix H (element-wise exponential of F)\n",
    "print(\"Matrix H (Element-wise Exponential of F):\")\n",
    "print(H.numpy())"
   ]
  },
  {
   "cell_type": "code",
   "execution_count": 14,
   "id": "3fcf15b1-eff9-4e36-a979-bb47eee11b72",
   "metadata": {},
   "outputs": [
    {
     "name": "stdout",
     "output_type": "stream",
     "text": [
      "Matrix H (Concatenation of F and G Horizontally):\n",
      "[[0.890275   0.50473547 0.673509   0.890275   0.4427836  0.38239205]\n",
      " [0.4427836  0.40588307 0.6189853  0.50473547 0.40588307 0.07898736]\n",
      " [0.38239205 0.07898736 0.8521795  0.673509   0.6189853  0.8521795 ]]\n"
     ]
    }
   ],
   "source": [
    "#4. Create a matrix | by concatenating matrix F and matrix G horizontally.\n",
    "\n",
    "#Ans\n",
    "\n",
    "import tensorflow as tf\n",
    "\n",
    "# Create matrix F (3x3) and matrix G (transpose of F) as shown in previous responses\n",
    "F = tf.random.uniform(shape=(3, 3))\n",
    "G = tf.transpose(F)\n",
    "\n",
    "# Concatenate matrices F and G horizontally\n",
    "H = tf.concat([F, G], axis=1)\n",
    "\n",
    "# Display matrix H (concatenation of F and G horizontally)\n",
    "print(\"Matrix H (Concatenation of F and G Horizontally):\")\n",
    "print(H.numpy())"
   ]
  },
  {
   "cell_type": "code",
   "execution_count": 20,
   "id": "ddf19c55-9a32-4683-b8fd-499216e1f48f",
   "metadata": {},
   "outputs": [
    {
     "name": "stdout",
     "output_type": "stream",
     "text": [
      "Matrix J (Concatenation of F and I Vertically):\n",
      "[[0.8565111  0.7438078  0.8595668  0.68360555 0.8710916  0.572091\n",
      "  0.42082155 0.97318935 0.9869746 ]\n",
      " [0.51872694 0.05810118 0.8278198  0.17824662 0.8816862  0.84047997\n",
      "  0.0639478  0.91130805 0.13997447]\n",
      " [0.18922377 0.975158   0.78516686 0.6994957  0.8484235  0.56102073\n",
      "  0.76005983 0.93330085 0.24871147]]\n"
     ]
    }
   ],
   "source": [
    "#5. Create a matrix J by concatenating matrix F and matrix H vertically.\n",
    "\n",
    "#Ans\n",
    "\n",
    "import tensorflow as tf\n",
    "\n",
    "# Create matrix F (3x3) and matrix H (concatenation of F and G horizontally) as shown in previous responses\n",
    "F = tf.random.uniform(shape=(3, 3))\n",
    "G = tf.transpose(F)\n",
    "H = tf.concat([F, G], axis=1)\n",
    "\n",
    "# Ensure that F and H have the same number of rows for vertical concatenation\n",
    "# You can create a new matrix with the same number of columns as H\n",
    "I = tf.random.uniform(shape=(3, 6), dtype=tf.float32)\n",
    "\n",
    "# Concatenate matrices F and I vertically\n",
    "J = tf.concat([F, I], axis=1)  # Concatenate along the columns (axis=1)\n",
    "\n",
    "# Display matrix J (concatenation of F and I vertically)\n",
    "print(\"Matrix J (Concatenation of F and I Vertically):\")\n",
    "print(J.numpy())"
   ]
  },
  {
   "cell_type": "code",
   "execution_count": null,
   "id": "c6351dae-db0c-495f-8e2d-4b3a42865ed4",
   "metadata": {},
   "outputs": [],
   "source": []
  }
 ],
 "metadata": {
  "kernelspec": {
   "display_name": "Python 3 (ipykernel)",
   "language": "python",
   "name": "python3"
  },
  "language_info": {
   "codemirror_mode": {
    "name": "ipython",
    "version": 3
   },
   "file_extension": ".py",
   "mimetype": "text/x-python",
   "name": "python",
   "nbconvert_exporter": "python",
   "pygments_lexer": "ipython3",
   "version": "3.10.9"
  }
 },
 "nbformat": 4,
 "nbformat_minor": 5
}
